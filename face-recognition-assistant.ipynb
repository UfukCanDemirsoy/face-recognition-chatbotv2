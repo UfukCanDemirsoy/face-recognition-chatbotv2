{
 "cells": [
  {
   "cell_type": "markdown",
   "id": "43500ded-06de-4a28-a53b-e86f8c5630e6",
   "metadata": {},
   "source": [
    "<span style=\"font-size: 2em;\">Gerekli kütüphanelerin indirilmesi</span>\n"
   ]
  },
  {
   "cell_type": "code",
   "execution_count": 1,
   "id": "1bb45ae6-ef25-463b-ad32-ac78e54b1411",
   "metadata": {
    "tags": []
   },
   "outputs": [],
   "source": [
    "#!pip install opencv-python"
   ]
  },
  {
   "cell_type": "code",
   "execution_count": 2,
   "id": "9aa7bdf2-cf10-4f69-92bb-28bca079226d",
   "metadata": {
    "tags": []
   },
   "outputs": [],
   "source": [
    "#!pip install deepface"
   ]
  },
  {
   "cell_type": "code",
   "execution_count": 3,
   "id": "3313d063-5504-4b44-a761-d0e232e55232",
   "metadata": {
    "tags": []
   },
   "outputs": [],
   "source": [
    "#!pip install pyttsx3"
   ]
  },
  {
   "cell_type": "code",
   "execution_count": 4,
   "id": "f5807fb1-569f-4631-82ab-95ae20d61de0",
   "metadata": {
    "tags": []
   },
   "outputs": [],
   "source": [
    "#!pip install SpeechRecognition"
   ]
  },
  {
   "cell_type": "code",
   "execution_count": 5,
   "id": "b5c95eea-1390-4534-ad27-343dc87520e1",
   "metadata": {
    "tags": []
   },
   "outputs": [],
   "source": [
    "#!pip install pygame"
   ]
  },
  {
   "cell_type": "code",
   "execution_count": 6,
   "id": "6343d739-7b04-469a-babe-dcb42d185aa5",
   "metadata": {
    "tags": []
   },
   "outputs": [],
   "source": [
    "#!pip install tensorflow"
   ]
  },
  {
   "cell_type": "code",
   "execution_count": 7,
   "id": "73fbacdf-60af-42ff-876b-03cc04ad04a8",
   "metadata": {
    "tags": []
   },
   "outputs": [],
   "source": [
    "#!pip install opencv-python --upgrade"
   ]
  },
  {
   "cell_type": "code",
   "execution_count": 8,
   "id": "16aa575e-7510-4414-89ce-c198483a2ff9",
   "metadata": {
    "tags": []
   },
   "outputs": [],
   "source": [
    "#!pip install deepface --upgrade"
   ]
  },
  {
   "cell_type": "code",
   "execution_count": 9,
   "id": "ab032c42-772b-417e-bb03-987fb1d5ef91",
   "metadata": {
    "tags": []
   },
   "outputs": [],
   "source": [
    "#!pip install PyAudio"
   ]
  },
  {
   "cell_type": "code",
   "execution_count": 1,
   "id": "d56c1cf4-09eb-4bdc-a301-7d91a5ae3aba",
   "metadata": {},
   "outputs": [
    {
     "name": "stdout",
     "output_type": "stream",
     "text": [
      "True\n",
      "1\n",
      "NVIDIA GeForce RTX 2060\n"
     ]
    }
   ],
   "source": [
    "import torch\n",
    "print(torch.cuda.is_available())  \n",
    "print(torch.cuda.device_count()) \n",
    "print(torch.cuda.get_device_name(0))  "
   ]
  },
  {
   "cell_type": "code",
   "execution_count": null,
   "id": "3d47cbe0-6291-498c-8bdb-e73ff48db660",
   "metadata": {},
   "outputs": [],
   "source": [
    "from transformers import Trainer, TrainingArguments, GPT2LMHeadModel, GPT2Tokenizer\n",
    "from datasets import load_dataset\n",
    "\n",
    "# 1. Model ve tokenizer'ı yükle\n",
    "model = GPT2LMHeadModel.from_pretrained(\"gpt2\")\n",
    "tokenizer = GPT2Tokenizer.from_pretrained(\"gpt2\")"
   ]
  },
  {
   "cell_type": "code",
   "execution_count": null,
   "id": "ccf71536-b4de-49ac-b819-bf893856501c",
   "metadata": {},
   "outputs": [],
   "source": [
    "model = GPT2LMHeadModel.from_pretrained(\"./trained_model\")"
   ]
  },
  {
   "cell_type": "code",
   "execution_count": null,
   "id": "8e34b1ad-d892-4870-8bb9-15bb8f3e8a17",
   "metadata": {},
   "outputs": [],
   "source": [
    "model.eval()"
   ]
  },
  {
   "cell_type": "markdown",
   "id": "0c81ea9d-c126-4601-9f8d-74cfa5531733",
   "metadata": {},
   "source": [
    "<span style=\"font-size: 2em;\">Chat-Bot fonksiyonları</span>"
   ]
  },
  {
   "cell_type": "code",
   "execution_count": 10,
   "id": "7264401b-83ba-4773-b9f9-ece369cb6195",
   "metadata": {
    "tags": []
   },
   "outputs": [
    {
     "name": "stdout",
     "output_type": "stream",
     "text": [
      "pygame 2.6.1 (SDL 2.28.4, Python 3.9.20)\n",
      "Hello from the pygame community. https://www.pygame.org/contribute.html\n"
     ]
    }
   ],
   "source": [
    "import speech_recognition as sr\n",
    "import pyttsx3\n",
    "import datetime\n",
    "import pygame\n",
    "import webbrowser\n",
    "import random\n",
    "import requests\n",
    "import time\n",
    "isim = 'yok'\n",
    "# Ufuk veya Gülsüm son olarak ne zaman tespit edildiğini tutan zaman damgası\n",
    "last_seen_time = time.time()\n",
    "# Belirli bir süre boyunca kimse tespit edilmezse uygulamanın kapanması için maksimum süre (saniye cinsinden)\n",
    "max_unseen_duration = 20\n",
    "\n",
    "günler = {\n",
    "    \"Monday\": \"Pazartesi\",\n",
    "    \"Tuesday\": \"Salı\",\n",
    "    \"Wednesday\": \"Çarşamba\",\n",
    "    \"Thursday\": \"Perşembe\",\n",
    "    \"Friday\": \"Cuma\",\n",
    "    \"Saturday\": \"Cumartesi\",\n",
    "    \"Sunday\": \"Pazar\"\n",
    "}\n",
    "stop_bot = False\n",
    "api_key = \"API KEY\"\n",
    "\n",
    "def speak(text):\n",
    "    engine = pyttsx3.init()\n",
    "    engine.setProperty('rate', 150)\n",
    "    engine.setProperty('voice', 'turkish')\n",
    "    engine.say(text)\n",
    "    engine.runAndWait()\n",
    "    print(text)\n",
    "\n",
    "def play_number_game():\n",
    "    secret_number = random.randint(1, 100)\n",
    "    speak(\"Bir ile yüz arasında bir sayı tuttum. Tahmin et\")\n",
    "    print(\"Bir ile yüz arasında bir sayı tuttum. Tahmin et\")\n",
    "    while True:\n",
    "        query = listen()\n",
    "        if \"çıkış\" in query:\n",
    "            speak(f\"Oyun bitti. Doğru sayı {secret_number} idi.\")\n",
    "            print(f\"Oyun bitti. Doğru sayı {secret_number} idi.\")\n",
    "            break\n",
    "\n",
    "        if \"tahmin\" in query:\n",
    "            guess = int([int(s) for s in query.split() if s.isdigit()][0])\n",
    "            if guess == secret_number:\n",
    "                speak(\"Tebrikler! Doğru tahmin ettiniz.\")\n",
    "                print(\"Tebrikler! Doğru tahmin ettiniz.\")\n",
    "                break\n",
    "            elif guess < secret_number:\n",
    "                speak(\"Daha yüksek bir sayı söyleyin.\")\n",
    "                print(\"Daha yüksek bir sayı söyleyin.\")\n",
    "            else:\n",
    "                speak(\"Daha düşük bir sayı söyleyin.\")\n",
    "                print(\"Daha düşük bir sayı söyleyin.\")\n",
    "        else:\n",
    "            speak(\"Lütfen bir sayı söyleyin veya çıkmak için 'çıkış' deyin.\")\n",
    "            print(\"Lütfen bir sayı söyleyin veya çıkmak için 'çıkış' deyin.\")\n",
    "    \n",
    "def get_weather(api_key):\n",
    "    city_name = \"Kirsehir\"\n",
    "    base_url = \"http://api.openweathermap.org/data/2.5/weather\"\n",
    "    params = {\n",
    "        \"q\": city_name,\n",
    "        \"appid\": api_key,\n",
    "        \"units\": \"metric\",  # Metrik birimlerde hava durumu almak için\n",
    "        \"lang\": \"tr\"        # Türkçe dilinde hava durumu almak için\n",
    "    }\n",
    "\n",
    "    response = requests.get(base_url, params=params)\n",
    "\n",
    "    if response.status_code == 200:\n",
    "        data = response.json()\n",
    "        weather_desc = data[\"weather\"][0][\"description\"]\n",
    "        temp = data[\"main\"][\"temp\"]\n",
    "        result = f\"Kırşehir'de hava durumu: {weather_desc}. Sıcaklık: {temp}°C.\"\n",
    "        print(result)\n",
    "        return result\n",
    "    else:\n",
    "        return \"Hava durumu bilgisi alınamadı.\"\n",
    "\n",
    "def play_music():\n",
    "    pygame.init()\n",
    "    pygame.mixer.music.load('music1.mp3')\n",
    "    pygame.mixer.music.play()\n",
    "\n",
    "\n",
    "def listen(timeout=5, retries=3):\n",
    "    recognizer = sr.Recognizer()\n",
    "    microphone = sr.Microphone()\n",
    "    with microphone as source:\n",
    "        recognizer.adjust_for_ambient_noise(source)\n",
    "        print(\"Sizi dinliyorum... Lütfen konuşun.\")\n",
    "        for _ in range(retries):\n",
    "            try:\n",
    "                # timeout süresi boyunca ses dinleme\n",
    "                audio = recognizer.listen(source, timeout=timeout)\n",
    "                print(\"Ses algılanıyor, lütfen bekleyin...\")\n",
    "                # Google Web Speech API kullanarak sesi metne çevirme\n",
    "                text = recognizer.recognize_google(audio, language='tr-TR')\n",
    "                print(\"Ses algılandı: \", text)\n",
    "                return text.lower()\n",
    "            except sr.WaitTimeoutError:\n",
    "                # Belirtilen timeout süresi içinde ses algılanmadı\n",
    "                print(\"Ses algılanamadı, yeniden deniyor...\")\n",
    "                continue  # Döngüyü tekrar başlat\n",
    "            except sr.UnknownValueError:\n",
    "                print(\"Ses anlaşılamadı, lütfen tekrar deneyin.\")\n",
    "                continue\n",
    "            except sr.RequestError as e:\n",
    "                print(f\"Google API'dan yanıt alınamadı, hata: {e}\")\n",
    "                continue\n",
    "        return \"Anlaşılmadı\"\n",
    "\n",
    "def chatbot_response(query):\n",
    "    global stop_bot\n",
    "    print(\"Sohbet botuna hoş geldiniz! Şu anda sadece İngilizce sohbet geçerlidir. (Çıkmak için 'exit' yazın)\")\n",
    "\n",
    "    while True:\n",
    "        # Kullanıcıdan bir soru al\n",
    "        user_input = input(\"Sen: \")\n",
    "        \n",
    "        # Çıkış için 'exit' komutunu kontrol et\n",
    "        if user_input.lower() == \"exit\":\n",
    "            print(\"Sohbet sona erdi.\")\n",
    "            break\n",
    "\n",
    "        # Kullanıcı girdisini tokenleştir\n",
    "        inputs = tokenizer(user_input, return_tensors=\"pt\")\n",
    "        \n",
    "        # Model ile yanıt üret\n",
    "        output = model.generate(\n",
    "            inputs.input_ids, \n",
    "            max_length=100,  # Üretilecek maksimum token sayısı\n",
    "            num_return_sequences=1,  # Kaç yanıt üretileceği\n",
    "            no_repeat_ngram_size=2,  # Aynı cümlenin tekrarını önlemek için\n",
    "            early_stopping=True\n",
    "        )\n",
    "\n",
    "        # Tokenleri metne dönüştür\n",
    "        response = tokenizer.decode(output[0], skip_special_tokens=True)\n",
    "\n",
    "        # Modelin yanıtını göster\n",
    "        print(f\"Bot: {response}\")\n",
    "\n",
    "# Sohbet başlat\n",
    "chat_with_model()\n"
   ]
  },
  {
   "cell_type": "markdown",
   "id": "f5f4d47d-491b-43ba-bf3b-c973455580d0",
   "metadata": {},
   "source": [
    "<span style=\"font-size: 2em;\">Yüz tanıma işlemleri</span>"
   ]
  },
  {
   "cell_type": "code",
   "execution_count": 11,
   "id": "a61af833-13cf-4f39-9a24-9103c3aeaf95",
   "metadata": {
    "tags": []
   },
   "outputs": [
    {
     "name": "stdout",
     "output_type": "stream",
     "text": [
      "WARNING:tensorflow:From C:\\Users\\Ufuk\\anaconda3\\envs\\environment2\\lib\\site-packages\\tf_keras\\src\\losses.py:2976: The name tf.losses.sparse_softmax_cross_entropy is deprecated. Please use tf.compat.v1.losses.sparse_softmax_cross_entropy instead.\n",
      "\n",
      "Sizi dinliyorum... Lütfen konuşun.\n",
      "Ses algılanıyor, lütfen bekleyin...\n",
      "Ses algılandı:  nasılsın\n",
      "İyiyim, teşekkür ederim. sen nasılsın?\n",
      "Sizi dinliyorum... Lütfen konuşun.\n",
      "Ses algılanamadı, yeniden deniyor...\n",
      "Ses algılanamadı, yeniden deniyor...\n",
      "Ses algılanıyor, lütfen bekleyin...\n",
      "Ses algılandı:  iyi misin\n"
     ]
    }
   ],
   "source": [
    "import threading\n",
    "import cv2\n",
    "from deepface import DeepFace\n",
    "import time\n",
    "import pyttsx3\n",
    "import speech_recognition as sr\n",
    "\n",
    "stop_threads = threading.Event()\n",
    "engine = pyttsx3.init()\n",
    "is_spoken = False\n",
    "stop_bot = False\n",
    "bot_responded = False\n",
    "cap = cv2.VideoCapture(0, cv2.CAP_DSHOW)\n",
    "cap.set(cv2.CAP_PROP_FRAME_WIDTH, 640)\n",
    "cap.set(cv2.CAP_PROP_FRAME_HEIGHT, 480)\n",
    "\n",
    "counter = 0\n",
    "\n",
    "reference_img1 = cv2.imread(\"ufukface.jpeg\")\n",
    "reference_img2 = cv2.imread(\"secondface.jpg\")\n",
    "\n",
    "face_match1 = False\n",
    "face_match2 = False\n",
    "\n",
    "\n",
    "def check_face1(frame):\n",
    "    global face_match1\n",
    "    try:\n",
    "        if DeepFace.verify(frame, reference_img1.copy())['verified']:\n",
    "            face_match1 = True\n",
    "        else:\n",
    "            face_match1 = False\n",
    "            \n",
    "    except ValueError:\n",
    "        face_match1 = False\n",
    "\n",
    "def check_face2(frame):\n",
    "    global face_match2\n",
    "    try:\n",
    "        if DeepFace.verify(frame, reference_img2.copy())['verified']:\n",
    "            face_match2 = True\n",
    "            \n",
    "        else:\n",
    "            face_match2 = False\n",
    "            \n",
    "    except ValueError:\n",
    "        face_match2 = False\n",
    "\n",
    "def chatbot_thread_func():\n",
    "    global stop_bot\n",
    "    while not stop_bot:\n",
    "        query = listen()\n",
    "        response = chatbot_response(query)\n",
    "        speak(response)\n",
    "        if stop_bot:\n",
    "            break\n",
    "\n",
    "chatbot_thread = threading.Thread(target=chatbot_thread_func)\n",
    "\n",
    "while True:\n",
    "    bot_responded = False\n",
    "    if stop_bot:\n",
    "        stop_bot = False\n",
    "        chatbot_thread.join()\n",
    "        \n",
    "    ret, frame = cap.read()\n",
    "\n",
    "    if ret:\n",
    "        if counter % 30 == 0:\n",
    "            if not stop_threads.is_set():\n",
    "                try:\n",
    "                    threading.Thread(target=check_face1, args=(frame.copy(),)).start()\n",
    "                    threading.Thread(target=check_face2, args=(frame.copy(),)).start()\n",
    "                except ValueError:\n",
    "                    pass\n",
    "        counter += 1\n",
    "\n",
    "        if face_match1:\n",
    "            cv2.putText(frame, \"Ufuk!\", (20, 450), cv2.FONT_HERSHEY_SIMPLEX, 2, (0, 255, 0), 1)\n",
    "            isim = 'Ufuk'\n",
    "            last_seen_time = time.time()\n",
    "            #print(isim)\n",
    "            if not chatbot_thread.is_alive():\n",
    "                chatbot_thread = threading.Thread(target=chatbot_thread_func)\n",
    "                chatbot_thread.start()\n",
    "            \n",
    "        else:\n",
    "            stop_threads.clear()\n",
    "            cv2.putText(frame, \"eslesme yok 1\", (20, 450), cv2.FONT_HERSHEY_SIMPLEX, 2, (0, 0, 255), 1)\n",
    "            \n",
    "        if face_match2:\n",
    "            cv2.putText(frame, \"SeconFace!\", (20, 400), cv2.FONT_HERSHEY_SIMPLEX, 2, (0, 255, 0), 1)\n",
    "            isim = 'Second'\n",
    "            last_seen_time = time.time()\n",
    "            if not chatbot_thread.is_alive():\n",
    "                chatbot_thread = threading.Thread(target=chatbot_thread_func)\n",
    "                chatbot_thread.start()\n",
    "            \n",
    "        else:\n",
    "            cv2.putText(frame, \"eslesme yok 2\", (20, 400), cv2.FONT_HERSHEY_SIMPLEX, 2, (0, 0, 255), 1)\n",
    "        \n",
    "        cv2.imshow('video', frame)\n",
    "    if (time.time() - last_seen_time) > max_unseen_duration:\n",
    "        stop_bot = True\n",
    "        \n",
    "\n",
    "    #remaining_time = max_unseen_duration - (time.time() - last_seen_time)\n",
    "    #print(f\"Kapanmaya kalan süre: {int(remaining_time)} saniye\")  # Kalan süreyi saniye cinsinden yazdır\n",
    "    \n",
    "    key = cv2.waitKey(1)\n",
    "    if key == ord('q') or stop_bot:\n",
    "        break\n",
    "\n",
    "cv2.destroyAllWindows()\n",
    "cap.release()\n"
   ]
  },
  {
   "cell_type": "code",
   "execution_count": 12,
   "id": "e92dc9c2-91a8-4e2d-af6c-383bbb76560c",
   "metadata": {},
   "outputs": [],
   "source": [
    "#!pip install pyowm"
   ]
  },
  {
   "cell_type": "code",
   "execution_count": null,
   "id": "92098599-cfed-4b83-b2ab-2659186fcb67",
   "metadata": {},
   "outputs": [],
   "source": []
  }
 ],
 "metadata": {
  "kernelspec": {
   "display_name": "Python 3 (ipykernel)",
   "language": "python",
   "name": "python3"
  },
  "language_info": {
   "codemirror_mode": {
    "name": "ipython",
    "version": 3
   },
   "file_extension": ".py",
   "mimetype": "text/x-python",
   "name": "python",
   "nbconvert_exporter": "python",
   "pygments_lexer": "ipython3",
   "version": "3.9.20"
  }
 },
 "nbformat": 4,
 "nbformat_minor": 5
}
